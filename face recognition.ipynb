{
 "cells": [
  {
   "cell_type": "code",
   "execution_count": 2,
   "metadata": {},
   "outputs": [],
   "source": [
    "import cv2\n",
    "import face_recognition as fr\n",
    "import glob"
   ]
  },
  {
   "cell_type": "code",
   "execution_count": 3,
   "metadata": {},
   "outputs": [],
   "source": [
    "known_faces_dir = 'known_faces'\n",
    "unknown_faces_dir = 'unknown_faces'\n",
    "tolerance = 0.65\n",
    "frame_thickness = 3\n",
    "font_thickness = 2\n",
    "model = 'cnn' # or hog"
   ]
  },
  {
   "cell_type": "code",
   "execution_count": 4,
   "metadata": {},
   "outputs": [
    {
     "data": {
      "text/plain": [
       "['known_faces\\\\Gajju\\\\',\n",
       " 'known_faces\\\\Messi\\\\',\n",
       " 'known_faces\\\\Prabanchan\\\\',\n",
       " 'known_faces\\\\Subramanian\\\\']"
      ]
     },
     "execution_count": 4,
     "metadata": {},
     "output_type": "execute_result"
    }
   ],
   "source": [
    "known_face_paths = glob.glob(known_faces_dir+'/*/')\n",
    "known_face_paths"
   ]
  },
  {
   "cell_type": "code",
   "execution_count": 5,
   "metadata": {},
   "outputs": [],
   "source": [
    "known_faces = []\n",
    "known_face_names = []\n",
    "\n",
    "for name in known_face_paths:\n",
    "    for img_name in glob.glob(name + \"/*.jpg\"):\n",
    "        image = fr.load_image_file(img_name)\n",
    "        encoding = fr.face_encodings(image)[0]\n",
    "        known_faces.append(encoding)\n",
    "        known_face_names.append(name.split('\\\\')[-2])"
   ]
  },
  {
   "cell_type": "code",
   "execution_count": 110,
   "metadata": {},
   "outputs": [
    {
     "name": "stdout",
     "output_type": "stream",
     "text": [
      "Match found: Messi\n",
      "Match found: Messi\n",
      "Match found: Messi\n",
      "Match found: Messi\n",
      "Match found: Messi\n",
      "Match found: Messi\n",
      "Match found: Messi\n",
      "Match found: Messi\n",
      "Match found: Messi\n",
      "Match found: Messi\n"
     ]
    }
   ],
   "source": [
    "for img_name in glob.glob(unknown_faces_dir + \"/*.jpg\"):\n",
    "    image = fr.load_image_file(img_name)\n",
    "    locations = fr.face_locations(image, model='hog')\n",
    "    encodings = fr.face_encodings(image, locations)\n",
    "    image = cv2.cvtColor(image, cv2.COLOR_RGB2BGR)\n",
    "    \n",
    "    for face_encoding, face_location in zip(encodings, locations):\n",
    "        results = fr.compare_faces(known_faces, face_encoding, tolerance)\n",
    "        match = None\n",
    "        if True in results:\n",
    "            match = known_face_names[results.index(True)]\n",
    "            print(f\"Match found: {match}\")\n",
    "            \n",
    "            top_left = (face_location[3], face_location[0]) \n",
    "            bottom_right = (face_location[1], face_location[2])\n",
    "            color = [0, 255, 0] \n",
    "            cv2.rectangle(image, top_left, bottom_right, color, frame_thickness)\n",
    "\n",
    "            top_left = (face_location[3], face_location[2]) \n",
    "            bottom_right = (face_location[1], face_location[2]+22)\n",
    "            cv2.rectangle(image, top_left, bottom_right, color, cv2.FILLED)\n",
    "            cv2.putText(image, match, (face_location[3]+10, face_location[2]+15), cv2.FONT_HERSHEY_SIMPLEX, 0.5, (220, 220, 220), font_thickness)\n",
    "\n",
    "    cv2.imshow(img_name, image)\n",
    "    cv2.waitKey(1000)\n",
    "    cv2.destroyAllWindows()"
   ]
  },
  {
   "cell_type": "code",
   "execution_count": 9,
   "metadata": {},
   "outputs": [
    {
     "name": "stdout",
     "output_type": "stream",
     "text": [
      "Match found: Subramanian\n",
      "Match found: Subramanian\n",
      "Match found: Subramanian\n",
      "Match found: Gajju\n",
      "Match found: Gajju\n",
      "Match found: Gajju\n",
      "Match found: Gajju\n",
      "Match found: Gajju\n",
      "Match found: Gajju\n"
     ]
    }
   ],
   "source": [
    "video_capture = cv2.VideoCapture(0)\n",
    "while True:\n",
    "    _, frame = video_capture.read()\n",
    "    \n",
    "    locations = fr.face_locations(frame, model='hog')\n",
    "    encodings = fr.face_encodings(frame, locations)\n",
    "    image = cv2.cvtColor(frame, cv2.COLOR_RGB2BGR)\n",
    "\n",
    "    for face_encoding, face_location in zip(encodings, locations):\n",
    "        results = fr.compare_faces(known_faces, face_encoding, tolerance)\n",
    "        match = None\n",
    "        if True in results:\n",
    "            match = known_face_names[results.index(True)]\n",
    "            print(f\"Match found: {match}\")\n",
    "            \n",
    "            top_left = (face_location[3], face_location[0]) \n",
    "            bottom_right = (face_location[1], face_location[2])\n",
    "            color = [0, 255, 0] \n",
    "            cv2.rectangle(image, top_left, bottom_right, color, frame_thickness)\n",
    "\n",
    "            top_left = (face_location[3], face_location[2]) \n",
    "            bottom_right = (face_location[1], face_location[2]+22)\n",
    "            cv2.rectangle(frame, top_left, bottom_right, color, cv2.FILLED)\n",
    "            cv2.putText(frame, match, (face_location[3]+10, face_location[2]+15), cv2.FONT_HERSHEY_SIMPLEX, 0.5, (0, 0, 0), font_thickness)\n",
    "\n",
    "\n",
    "    cv2.imshow('Video', frame)\n",
    "    if cv2.waitKey(1) & 0xFF == ord('q'):\n",
    "        break\n",
    "\n",
    "video_capture.release()\n",
    "cv2.destroyAllWindows()"
   ]
  },
  {
   "cell_type": "code",
   "execution_count": null,
   "metadata": {},
   "outputs": [],
   "source": []
  },
  {
   "cell_type": "code",
   "execution_count": null,
   "metadata": {},
   "outputs": [],
   "source": []
  }
 ],
 "metadata": {
  "kernelspec": {
   "display_name": "Python 3",
   "language": "python",
   "name": "python3"
  },
  "language_info": {
   "codemirror_mode": {
    "name": "ipython",
    "version": 3
   },
   "file_extension": ".py",
   "mimetype": "text/x-python",
   "name": "python",
   "nbconvert_exporter": "python",
   "pygments_lexer": "ipython3",
   "version": "3.7.1"
  }
 },
 "nbformat": 4,
 "nbformat_minor": 4
}
